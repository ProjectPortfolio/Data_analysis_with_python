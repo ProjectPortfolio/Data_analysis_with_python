{
 "cells": [
  {
   "cell_type": "code",
   "execution_count": 2,
   "metadata": {},
   "outputs": [],
   "source": [
    "import requests"
   ]
  },
  {
   "cell_type": "code",
   "execution_count": 10,
   "metadata": {},
   "outputs": [],
   "source": [
    "from bs4 import BeautifulSoup"
   ]
  },
  {
   "cell_type": "code",
   "execution_count": 13,
   "metadata": {},
   "outputs": [],
   "source": [
    "page =requests.get(\"https://www.flipkart.com/laptops/pr?sid=b5g\")"
   ]
  },
  {
   "cell_type": "code",
   "execution_count": 14,
   "metadata": {},
   "outputs": [
    {
     "data": {
      "text/plain": [
       "<Response [200]>"
      ]
     },
     "execution_count": 14,
     "metadata": {},
     "output_type": "execute_result"
    }
   ],
   "source": [
    "page"
   ]
  },
  {
   "cell_type": "code",
   "execution_count": 15,
   "metadata": {},
   "outputs": [],
   "source": [
    "soup=BeautifulSoup(page.content,\"html.parser\")"
   ]
  },
  {
   "cell_type": "code",
   "execution_count": 33,
   "metadata": {},
   "outputs": [],
   "source": [
    "table = soup.findAll('a',href=True, attrs={'class':'_31qSD5'})"
   ]
  },
  {
   "cell_type": "code",
   "execution_count": 50,
   "metadata": {},
   "outputs": [
    {
     "ename": "AttributeError",
     "evalue": "'NoneType' object has no attribute 'text'",
     "output_type": "error",
     "traceback": [
      "\u001b[0;31m---------------------------------------------------------------------------\u001b[0m",
      "\u001b[0;31mAttributeError\u001b[0m                            Traceback (most recent call last)",
      "\u001b[0;32m<ipython-input-50-b48ed21e5838>\u001b[0m in \u001b[0;36m<module>\u001b[0;34m\u001b[0m\n\u001b[1;32m      9\u001b[0m     \u001b[0mproducts\u001b[0m\u001b[0;34m.\u001b[0m\u001b[0mappend\u001b[0m\u001b[0;34m(\u001b[0m\u001b[0mname\u001b[0m\u001b[0;34m.\u001b[0m\u001b[0mtext\u001b[0m\u001b[0;34m.\u001b[0m\u001b[0mstrip\u001b[0m\u001b[0;34m(\u001b[0m\u001b[0;34m)\u001b[0m\u001b[0;34m)\u001b[0m\u001b[0;34m\u001b[0m\u001b[0;34m\u001b[0m\u001b[0m\n\u001b[1;32m     10\u001b[0m     \u001b[0mprices\u001b[0m\u001b[0;34m.\u001b[0m\u001b[0mappend\u001b[0m\u001b[0;34m(\u001b[0m\u001b[0mprice\u001b[0m\u001b[0;34m.\u001b[0m\u001b[0mtext\u001b[0m\u001b[0;34m.\u001b[0m\u001b[0mstrip\u001b[0m\u001b[0;34m(\u001b[0m\u001b[0;34m)\u001b[0m\u001b[0;34m)\u001b[0m\u001b[0;34m\u001b[0m\u001b[0;34m\u001b[0m\u001b[0m\n\u001b[0;32m---> 11\u001b[0;31m     \u001b[0mratings\u001b[0m\u001b[0;34m.\u001b[0m\u001b[0mappend\u001b[0m\u001b[0;34m(\u001b[0m\u001b[0mrating\u001b[0m\u001b[0;34m.\u001b[0m\u001b[0mtext\u001b[0m\u001b[0;34m.\u001b[0m\u001b[0mstrip\u001b[0m\u001b[0;34m(\u001b[0m\u001b[0;34m)\u001b[0m\u001b[0;34m)\u001b[0m\u001b[0;34m\u001b[0m\u001b[0;34m\u001b[0m\u001b[0m\n\u001b[0m\u001b[1;32m     12\u001b[0m \u001b[0;34m\u001b[0m\u001b[0m\n",
      "\u001b[0;31mAttributeError\u001b[0m: 'NoneType' object has no attribute 'text'"
     ]
    }
   ],
   "source": [
    "products=[]\n",
    "ratings=[]\n",
    "prices=[]\n",
    "for a in table:\n",
    "    name=a.find('div', class_='_3wU53n')\n",
    "    price=a.find('div', class_='_1vC4OE _2rQ-NK')\n",
    "    rating=a.find('div', class_='hGSR34 _2beYZw')\n",
    "    \n",
    "    products.append(name.text.strip())\n",
    "    prices.append(price.text.strip())\n",
    "    ratings.append(rating.text.strip())\n",
    "    "
   ]
  },
  {
   "cell_type": "code",
   "execution_count": 48,
   "metadata": {},
   "outputs": [],
   "source": [
    "import pandas as pd\n",
    "data = {\n",
    "    'Products':products,\n",
    "    'Prices':prices\n",
    "}\n",
    "df =pd.DataFrame(data)"
   ]
  },
  {
   "cell_type": "code",
   "execution_count": 49,
   "metadata": {},
   "outputs": [
    {
     "data": {
      "text/html": [
       "<div>\n",
       "<style scoped>\n",
       "    .dataframe tbody tr th:only-of-type {\n",
       "        vertical-align: middle;\n",
       "    }\n",
       "\n",
       "    .dataframe tbody tr th {\n",
       "        vertical-align: top;\n",
       "    }\n",
       "\n",
       "    .dataframe thead th {\n",
       "        text-align: right;\n",
       "    }\n",
       "</style>\n",
       "<table border=\"1\" class=\"dataframe\">\n",
       "  <thead>\n",
       "    <tr style=\"text-align: right;\">\n",
       "      <th></th>\n",
       "      <th>Products</th>\n",
       "      <th>Prices</th>\n",
       "    </tr>\n",
       "  </thead>\n",
       "  <tbody>\n",
       "    <tr>\n",
       "      <td>0</td>\n",
       "      <td>Lenovo Ideapad S145 APU Dual Core A6 - (4 GB/1...</td>\n",
       "      <td>₹18,990</td>\n",
       "    </tr>\n",
       "    <tr>\n",
       "      <td>1</td>\n",
       "      <td>Lenovo Ideapad 130 Core i3 7th Gen - (4 GB/1 T...</td>\n",
       "      <td>₹26,990</td>\n",
       "    </tr>\n",
       "    <tr>\n",
       "      <td>2</td>\n",
       "      <td>Lenovo Ideapad S145 APU Dual Core A6 - (4 GB/1...</td>\n",
       "      <td>₹19,990</td>\n",
       "    </tr>\n",
       "    <tr>\n",
       "      <td>3</td>\n",
       "      <td>Asus VivoBook S Series Core i5 8th Gen - (8 GB...</td>\n",
       "      <td>₹51,990</td>\n",
       "    </tr>\n",
       "    <tr>\n",
       "      <td>4</td>\n",
       "      <td>HP Notebook Core i3 8th Gen - (4 GB/1 TB HDD/W...</td>\n",
       "      <td>₹31,490</td>\n",
       "    </tr>\n",
       "    <tr>\n",
       "      <td>5</td>\n",
       "      <td>Lenovo Ideapad 130 Core i3 7th Gen - (4 GB/1 T...</td>\n",
       "      <td>₹25,990</td>\n",
       "    </tr>\n",
       "    <tr>\n",
       "      <td>6</td>\n",
       "      <td>Acer Swift 3 Core i5 8th Gen - (8 GB/512 GB SS...</td>\n",
       "      <td>₹54,990</td>\n",
       "    </tr>\n",
       "    <tr>\n",
       "      <td>7</td>\n",
       "      <td>Asus VivoBook Gaming Core i7 9th Gen - (16 GB ...</td>\n",
       "      <td>₹72,990</td>\n",
       "    </tr>\n",
       "    <tr>\n",
       "      <td>8</td>\n",
       "      <td>HP 14q Core i3 7th Gen - (8 GB/256 GB SSD/Wind...</td>\n",
       "      <td>₹32,490</td>\n",
       "    </tr>\n",
       "    <tr>\n",
       "      <td>9</td>\n",
       "      <td>HP Pavilion 15-EC Ryzen 5 Quad Core - (8 GB/1 ...</td>\n",
       "      <td>₹49,990</td>\n",
       "    </tr>\n",
       "    <tr>\n",
       "      <td>10</td>\n",
       "      <td>Lenovo Ideapad 130 Core i5 8th Gen - (8 GB/1 T...</td>\n",
       "      <td>₹39,990</td>\n",
       "    </tr>\n",
       "    <tr>\n",
       "      <td>11</td>\n",
       "      <td>HP 14q APU Dual Core A9 - (4 GB/256 GB SSD/Win...</td>\n",
       "      <td>₹19,990</td>\n",
       "    </tr>\n",
       "    <tr>\n",
       "      <td>12</td>\n",
       "      <td>Lenovo Ideapad S145 Core i3 10th Gen - (4 GB/2...</td>\n",
       "      <td>₹32,990</td>\n",
       "    </tr>\n",
       "    <tr>\n",
       "      <td>13</td>\n",
       "      <td>HP 15q APU Dual Core A9 - (8 GB/1 TB HDD/Windo...</td>\n",
       "      <td>₹25,990</td>\n",
       "    </tr>\n",
       "    <tr>\n",
       "      <td>14</td>\n",
       "      <td>Asus TUF Gaming Ryzen 5 Quad Core - (8 GB/1 TB...</td>\n",
       "      <td>₹46,990</td>\n",
       "    </tr>\n",
       "    <tr>\n",
       "      <td>15</td>\n",
       "      <td>HP 15s Ryzen 3 Dual Core - (4 GB/256 GB SSD/Wi...</td>\n",
       "      <td>₹28,990</td>\n",
       "    </tr>\n",
       "    <tr>\n",
       "      <td>16</td>\n",
       "      <td>HP 15q Core i5 8th Gen - (8 GB/1 TB HDD/Window...</td>\n",
       "      <td>₹43,990</td>\n",
       "    </tr>\n",
       "    <tr>\n",
       "      <td>17</td>\n",
       "      <td>HP 15s Core i3 8th Gen - (8 GB/1 TB HDD/Window...</td>\n",
       "      <td>₹36,990</td>\n",
       "    </tr>\n",
       "    <tr>\n",
       "      <td>18</td>\n",
       "      <td>Lenovo Ideapad 130 Core i3 7th Gen - (4 GB/1 T...</td>\n",
       "      <td>₹25,990</td>\n",
       "    </tr>\n",
       "    <tr>\n",
       "      <td>19</td>\n",
       "      <td>Apple MacBook Air Core i5 5th Gen - (8 GB/128 ...</td>\n",
       "      <td>₹64,990</td>\n",
       "    </tr>\n",
       "    <tr>\n",
       "      <td>20</td>\n",
       "      <td>HP 15q APU Dual Core A9 - (4 GB/1 TB HDD/Windo...</td>\n",
       "      <td>₹22,990</td>\n",
       "    </tr>\n",
       "    <tr>\n",
       "      <td>21</td>\n",
       "      <td>Asus VivoBook S Series Core i5 8th Gen - (8 GB...</td>\n",
       "      <td>₹49,990</td>\n",
       "    </tr>\n",
       "    <tr>\n",
       "      <td>22</td>\n",
       "      <td>Lenovo Ideapad S145 Core i5 10th Gen - (8 GB/5...</td>\n",
       "      <td>₹43,990</td>\n",
       "    </tr>\n",
       "    <tr>\n",
       "      <td>23</td>\n",
       "      <td>MSI Core i7 9th Gen - (16 GB/1 TB SSD/Windows ...</td>\n",
       "      <td>₹1,69,990</td>\n",
       "    </tr>\n",
       "  </tbody>\n",
       "</table>\n",
       "</div>"
      ],
      "text/plain": [
       "                                             Products     Prices\n",
       "0   Lenovo Ideapad S145 APU Dual Core A6 - (4 GB/1...    ₹18,990\n",
       "1   Lenovo Ideapad 130 Core i3 7th Gen - (4 GB/1 T...    ₹26,990\n",
       "2   Lenovo Ideapad S145 APU Dual Core A6 - (4 GB/1...    ₹19,990\n",
       "3   Asus VivoBook S Series Core i5 8th Gen - (8 GB...    ₹51,990\n",
       "4   HP Notebook Core i3 8th Gen - (4 GB/1 TB HDD/W...    ₹31,490\n",
       "5   Lenovo Ideapad 130 Core i3 7th Gen - (4 GB/1 T...    ₹25,990\n",
       "6   Acer Swift 3 Core i5 8th Gen - (8 GB/512 GB SS...    ₹54,990\n",
       "7   Asus VivoBook Gaming Core i7 9th Gen - (16 GB ...    ₹72,990\n",
       "8   HP 14q Core i3 7th Gen - (8 GB/256 GB SSD/Wind...    ₹32,490\n",
       "9   HP Pavilion 15-EC Ryzen 5 Quad Core - (8 GB/1 ...    ₹49,990\n",
       "10  Lenovo Ideapad 130 Core i5 8th Gen - (8 GB/1 T...    ₹39,990\n",
       "11  HP 14q APU Dual Core A9 - (4 GB/256 GB SSD/Win...    ₹19,990\n",
       "12  Lenovo Ideapad S145 Core i3 10th Gen - (4 GB/2...    ₹32,990\n",
       "13  HP 15q APU Dual Core A9 - (8 GB/1 TB HDD/Windo...    ₹25,990\n",
       "14  Asus TUF Gaming Ryzen 5 Quad Core - (8 GB/1 TB...    ₹46,990\n",
       "15  HP 15s Ryzen 3 Dual Core - (4 GB/256 GB SSD/Wi...    ₹28,990\n",
       "16  HP 15q Core i5 8th Gen - (8 GB/1 TB HDD/Window...    ₹43,990\n",
       "17  HP 15s Core i3 8th Gen - (8 GB/1 TB HDD/Window...    ₹36,990\n",
       "18  Lenovo Ideapad 130 Core i3 7th Gen - (4 GB/1 T...    ₹25,990\n",
       "19  Apple MacBook Air Core i5 5th Gen - (8 GB/128 ...    ₹64,990\n",
       "20  HP 15q APU Dual Core A9 - (4 GB/1 TB HDD/Windo...    ₹22,990\n",
       "21  Asus VivoBook S Series Core i5 8th Gen - (8 GB...    ₹49,990\n",
       "22  Lenovo Ideapad S145 Core i5 10th Gen - (8 GB/5...    ₹43,990\n",
       "23  MSI Core i7 9th Gen - (16 GB/1 TB SSD/Windows ...  ₹1,69,990"
      ]
     },
     "execution_count": 49,
     "metadata": {},
     "output_type": "execute_result"
    }
   ],
   "source": [
    "df"
   ]
  },
  {
   "cell_type": "code",
   "execution_count": null,
   "metadata": {},
   "outputs": [],
   "source": []
  }
 ],
 "metadata": {
  "kernelspec": {
   "display_name": "Python 3",
   "language": "python",
   "name": "python3"
  },
  "language_info": {
   "codemirror_mode": {
    "name": "ipython",
    "version": 3
   },
   "file_extension": ".py",
   "mimetype": "text/x-python",
   "name": "python",
   "nbconvert_exporter": "python",
   "pygments_lexer": "ipython3",
   "version": "3.7.4"
  }
 },
 "nbformat": 4,
 "nbformat_minor": 2
}
