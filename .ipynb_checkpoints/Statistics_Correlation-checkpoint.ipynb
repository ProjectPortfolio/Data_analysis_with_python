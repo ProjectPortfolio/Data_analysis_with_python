{
 "cells": [
  {
   "cell_type": "code",
   "execution_count": 2,
   "metadata": {},
   "outputs": [],
   "source": [
    "x = [25, 27, 34, 40, 45, 52, 58, 70] #Speed kmph\n",
    "y = [10, 9.5, 8.4, 7.2, 7, 6.7, 6, 5.9] #Time\n",
    "import statistics as s"
   ]
  },
  {
   "cell_type": "code",
   "execution_count": 4,
   "metadata": {},
   "outputs": [],
   "source": [
    "xMean = s.mean(x)\n",
    "yMean = s.mean(y)"
   ]
  },
  {
   "cell_type": "code",
   "execution_count": 5,
   "metadata": {},
   "outputs": [],
   "source": [
    "newX = []\n",
    "for i in x:\n",
    "    newX.append(i-xMean)\n",
    "newY = []\n",
    "for i in y:\n",
    "    newY.append(i-yMean)"
   ]
  },
  {
   "cell_type": "code",
   "execution_count": 8,
   "metadata": {},
   "outputs": [
    {
     "data": {
      "text/plain": [
       "-0.8627314921959175"
      ]
     },
     "execution_count": 8,
     "metadata": {},
     "output_type": "execute_result"
    }
   ],
   "source": [
    "sumData = 0\n",
    "for i in range(len(newX)):\n",
    "    sumData += (newX[i]*newY[i])\n",
    "    \n",
    "cov = sumData/len(x)-1\n",
    "cov/(s.stdev(x)*s.stdev(y))"
   ]
  },
  {
   "cell_type": "code",
   "execution_count": null,
   "metadata": {},
   "outputs": [],
   "source": [
    "#Central Tend.\n",
    "#Vari.: \n",
    "#NumPy\n",
    "#Prob., dist., Infere."
   ]
  }
 ],
 "metadata": {
  "kernelspec": {
   "display_name": "Python 3",
   "language": "python",
   "name": "python3"
  },
  "language_info": {
   "codemirror_mode": {
    "name": "ipython",
    "version": 3
   },
   "file_extension": ".py",
   "mimetype": "text/x-python",
   "name": "python",
   "nbconvert_exporter": "python",
   "pygments_lexer": "ipython3",
   "version": "3.7.3"
  }
 },
 "nbformat": 4,
 "nbformat_minor": 2
}
