{
 "cells": [
  {
   "cell_type": "code",
   "execution_count": 14,
   "metadata": {},
   "outputs": [],
   "source": [
    "import pandas as pd\n",
    "import matplotlib.pyplot as plt\n",
    "import requests\n",
    "from bs4 import BeautifulSoup\n",
    "page = requests.get(\"https://weather.com/en-IN/weather/tenday/l/aff9460b9160c73ff01769fd83ae82cf37cb27fb7eb73c70b91257d413147b69\")\n",
    "soup = BeautifulSoup(page.content, \"html.parser\")"
   ]
  },
  {
   "cell_type": "code",
   "execution_count": 5,
   "metadata": {},
   "outputs": [],
   "source": [
    "table = soup.find('table', class_ = 'twc-table')"
   ]
  },
  {
   "cell_type": "code",
   "execution_count": 12,
   "metadata": {},
   "outputs": [
    {
     "name": "stdout",
     "output_type": "stream",
     "text": [
      "7 APR\n",
      "Partly Cloudy\n",
      "8 APR\n",
      "Sunny\n",
      "9 APR\n",
      "Mostly Sunny\n",
      "10 APR\n",
      "Mostly Sunny\n",
      "11 APR\n",
      "Sunny\n",
      "12 APR\n",
      "Mostly Sunny\n",
      "13 APR\n",
      "Mostly Sunny\n",
      "14 APR\n",
      "Mostly Sunny\n",
      "15 APR\n",
      "Partly Cloudy\n",
      "16 APR\n",
      "Partly Cloudy\n",
      "17 APR\n",
      "Partly Cloudy\n",
      "18 APR\n",
      "Partly Cloudy\n",
      "19 APR\n",
      "Mostly Sunny\n",
      "20 APR\n",
      "Mostly Sunny\n",
      "21 APR\n",
      "Mostly Sunny\n"
     ]
    }
   ],
   "source": [
    "for i in range(len(table.find_all('tr'))-1):\n",
    "    print(table.find_all('span', class_='day-detail')[i].text)\n",
    "    print(table.find_all('td', class_ = 'description')[i].text)"
   ]
  },
  {
   "cell_type": "code",
   "execution_count": 19,
   "metadata": {},
   "outputs": [
    {
     "data": {
      "text/plain": [
       "[<matplotlib.lines.Line2D at 0x1e4dd025550>]"
      ]
     },
     "execution_count": 19,
     "metadata": {},
     "output_type": "execute_result"
    },
    {
     "data": {
      "image/png": "[encoded data removed]",
      "text/plain": [
       "<Figure size 432x288 with 1 Axes>"
      ]
     },
     "metadata": {
      "needs_background": "light"
     },
     "output_type": "display_data"
    }
   ],
   "source": [
    "x = [1, 2, 3, 4, 5, 6, 7]\n",
    "y = [30, 34, 28, 24, 20, 26, 25]\n",
    "\n",
    "plt.plot(x, y, color='green', linewidth=6, linestyle='dotted')"
   ]
  },
  {
   "cell_type": "code",
   "execution_count": null,
   "metadata": {},
   "outputs": [],
   "source": []
  }
 ],
 "metadata": {
  "kernelspec": {
   "display_name": "Python 3",
   "language": "python",
   "name": "python3"
  },
  "language_info": {
   "codemirror_mode": {
    "name": "ipython",
    "version": 3
   },
   "file_extension": ".py",
   "mimetype": "text/x-python",
   "name": "python",
   "nbconvert_exporter": "python",
   "pygments_lexer": "ipython3",
   "version": "3.7.3"
  }
 },
 "nbformat": 4,
 "nbformat_minor": 2
}
